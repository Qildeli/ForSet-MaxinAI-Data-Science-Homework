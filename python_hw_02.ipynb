{
 "cells": [
  {
   "cell_type": "markdown",
   "id": "2f193497",
   "metadata": {
    "id": "2f193497"
   },
   "source": [
    "# 1\n",
    "დაწერეთ ფუნქცია `play()` რომელიც მოცემული `n` რიცხვისთვის სიმბოლოებით დაბეჭდავს სამკუთხედს შემდეგნაირად:\n",
    "\n",
    "`play(4)`\n",
    "\n",
    "```\n",
    "********\n",
    "***|\\***\n",
    "***| \\**\n",
    "***|  \\*\n",
    "***|  /*\n",
    "***| /**\n",
    "***|/***\n",
    "********\n",
    "```"
   ]
  },
  {
   "cell_type": "code",
   "execution_count": 3,
   "id": "0b30618b",
   "metadata": {
    "id": "0b30618b"
   },
   "outputs": [
    {
     "name": "stdout",
     "output_type": "stream",
     "text": [
      "**********\n",
      "****|\\****\n",
      "****| \\***\n",
      "****|  \\**\n",
      "****|   \\*\n",
      "****|   /*\n",
      "****|  /**\n",
      "****| /***\n",
      "****|/****\n",
      "**********\n"
     ]
    }
   ],
   "source": [
    "def play(n):\n",
    "    print(\"*\" * (n*2))\n",
    "    for i in range(n, 1, -1):\n",
    "        print(\"*\" * (n-1) + \"|\" + \" \" * (n - i) + \"\\\\\" + \"*\" * (i -1))\n",
    "    for i in range(2, n + 1):\n",
    "        print(\"*\" * (n-1) + \"|\" + \" \" * (n - i) + \"/\" + \"*\" * (i - 1))\n",
    "    print(\"*\" * (n * 2))\n",
    "    \n",
    "play(5)"
   ]
  },
  {
   "cell_type": "markdown",
   "id": "1cbd5584",
   "metadata": {
    "id": "1cbd5584"
   },
   "source": [
    "#### 2\n",
    "დაწერეთ `calc()` ფუნქცია რომელიც string პარამეტრად მიიღებს `<რიცხვი1> <ოპერაცია> <რიცხვი2> =` და პასუხად დააბრუნებს შედეგს.\n",
    "\n",
    "მაგალითად `calc('3 * 4 =')`\n",
    "\n",
    "`12`"
   ]
  },
  {
   "cell_type": "code",
   "execution_count": 2,
   "id": "0b6d8a54",
   "metadata": {
    "id": "0b6d8a54"
   },
   "outputs": [
    {
     "name": "stdout",
     "output_type": "stream",
     "text": [
      "12\n"
     ]
    }
   ],
   "source": [
    "def calc(n):\n",
    "    return eval(n[:-1])\n",
    " \n",
    "n = '3 * 4 ='\n",
    "print(calc(n))"
   ]
  },
  {
   "cell_type": "markdown",
   "id": "b7f56fe9",
   "metadata": {
    "id": "b7f56fe9"
   },
   "source": [
    "# 3\n",
    "დაწერეთ ფუნქცია, რომელიც მოცემული რიცხვისთვის დააბრუნებს რიცხვს, რომლის კენტ პოზიციაზე მყოფ ციფრებს შებრუნებულად დაალაგებს.\n",
    "\n",
    "* input: 3 => output: 3\n",
    "* input: 12 => output: 12\n",
    "* input: 123 => output: 321\n",
    "* input: 1234 => output: 3214\n",
    "* input: 12345 => output: 52341"
   ]
  },
  {
   "cell_type": "code",
   "execution_count": 294,
   "id": "5e41f224",
   "metadata": {
    "id": "5e41f224"
   },
   "outputs": [],
   "source": [
    "def rev(n):\n",
    "    \n",
    "    n = [int(x) for x in str(n)]\n",
    "    k = [z for z in n[::-1] if z %2 !=0]   \n",
    "\n",
    "    index = 0\n",
    "    for i in range(len(n)):\n",
    "        if n[i] % 2 != 0:\n",
    "            n[i] = k[index]\n",
    "            index +=1\n",
    "    \n",
    "    return int(\"\".join(map(str, n)))"
   ]
  },
  {
   "cell_type": "markdown",
   "id": "426f27b5",
   "metadata": {
    "id": "426f27b5"
   },
   "source": [
    "# 4\n",
    "დაწერეთ ფუნქცია, რომელიც შეამოწმებს თუ რამდენად ძლიერია პაროლი შემდეგი პირობებით:\n",
    "\n",
    "- \"ძალიან სუსტი\" პაროლი შედგება მხოლოდ ციფრებისგან და სიმბოლოების რაოდენობა ნაკლებია 8-ზე;\n",
    "- \"სუსტი\" პაროლი შედგება ლათინური ასოებისგან და სიმბოლოების რაოდენობა ნაკლებია 8-ზე;\n",
    "- \"ძლიერი\" პაროლი შედგება ასოებისგან, ასევე შეიცავს ერთ ციფრს მაინც, და სიმბოლოების რაოდენობა არის სულ მცირე 8;\n",
    "- \"ძალიან ძლიერი\" პაროლი შედგება ასოებისგან, ციფრებისგან, სპეციალური სიმბოლოებისგან (`.,?;:!@*()-_+=`) და სიმბოლოების რაოდენობა არის სულ მცირე 8.\n",
    "- თუ ისეთი კომბინაციაა, რომ 1:1-ში არ მიესადაგება ჩამოთვლილ პუნქტებს, კლასიფიცირდება როგორც უარესი. მაგალითად თუ 8-ზე მეტი სიმბოლოა, მაგრამ ყველა ციფრია, უნდა იყოს \"ძალიან სუსტი\""
   ]
  },
  {
   "cell_type": "code",
   "execution_count": 283,
   "id": "33edd25d",
   "metadata": {
    "id": "33edd25d"
   },
   "outputs": [],
   "source": [
    "def checkpas(pas):\n",
    "    a = \"abcdefghijklmnopqrstuvwxyz\"\n",
    "    b = \".,?;:!@*()-_+=\"\n",
    "    if len(pas) >= 8 and any(i in a for i in pas) and any(map(str.isdigit, pas)):\n",
    "        if any(i in b for i in pas):\n",
    "            return \"too strong\"\n",
    "        else:\n",
    "            return \"strong\"\n",
    "    if len(pas) < 8:\n",
    "        if any(i in a for i in pas):\n",
    "            return \"easy\"\n",
    "        else:\n",
    "            return \"too easy\"\n",
    "    else:\n",
    "        return \"too easy\""
   ]
  }
 ],
 "metadata": {
  "colab": {
   "name": "python_hw_02_firstname_lastname.ipynb",
   "provenance": []
  },
  "kernelspec": {
   "display_name": "Python 3 (ipykernel)",
   "language": "python",
   "name": "python3"
  },
  "language_info": {
   "codemirror_mode": {
    "name": "ipython",
    "version": 3
   },
   "file_extension": ".py",
   "mimetype": "text/x-python",
   "name": "python",
   "nbconvert_exporter": "python",
   "pygments_lexer": "ipython3",
   "version": "3.9.7"
  },
  "toc": {
   "base_numbering": 1,
   "nav_menu": {},
   "number_sections": true,
   "sideBar": true,
   "skip_h1_title": false,
   "title_cell": "Table of Contents",
   "title_sidebar": "Contents",
   "toc_cell": false,
   "toc_position": {},
   "toc_section_display": true,
   "toc_window_display": false
  }
 },
 "nbformat": 4,
 "nbformat_minor": 5
}
