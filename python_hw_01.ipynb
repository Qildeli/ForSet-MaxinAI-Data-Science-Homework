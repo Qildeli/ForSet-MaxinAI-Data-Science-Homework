{
  "cells": [
    {
      "cell_type": "markdown",
      "metadata": {
        "id": "pZFL2-JRnHAs"
      },
      "source": [
        "დაწერეთ ფუნქცია `rect_area` რომელსაც გადაეცემა მართკუთხედის **სიგრძე** და **სიგანე**, გამოითვლის და დააბრუნებს **ფართობს**."
      ],
      "id": "pZFL2-JRnHAs"
    },
    {
      "cell_type": "code",
      "execution_count": null,
      "metadata": {
        "id": "A7tx7NuInHAx"
      },
      "outputs": [],
      "source": [
        "def rect_area(length, width):\n",
        "    return length * width"
      ],
      "id": "A7tx7NuInHAx"
    },
    {
      "cell_type": "markdown",
      "metadata": {
        "id": "NBuG8XbenHAz"
      },
      "source": [
        "დაწერეთ კოდი რომელიც დადებითი `n` რიცხვისთვის დაითვლის და დაბეჭდავს `1`-დან `n`-მდე რიცხვების ჯამს."
      ],
      "id": "NBuG8XbenHAz"
    },
    {
      "cell_type": "code",
      "execution_count": null,
      "metadata": {
        "id": "A82BxVH2nHA0"
      },
      "outputs": [],
      "source": [
        "summ = 0\n",
        "i = 0\n",
        "\n",
        "while i < n:\n",
        "    summ += i\n",
        "    i += 1\n",
        "print(summ)"
      ],
      "id": "A82BxVH2nHA0"
    },
    {
      "cell_type": "markdown",
      "metadata": {
        "id": "Y5IPHYUmnHA1"
      },
      "source": [
        "დაწერეთ კოდი რომელიც ნებისმიერ `a`, `b` და `c` რიცხვებს დაბეჭდავს ზრდადობის მიხედვით."
      ],
      "id": "Y5IPHYUmnHA1"
    },
    {
      "cell_type": "code",
      "execution_count": null,
      "metadata": {
        "id": "Mavo3AM8nHA1"
      },
      "outputs": [],
      "source": [
        "if a < b and a < c:\n",
        "    if b < c:\n",
        "        d,e,f = a,b,c\n",
        "    else:\n",
        "        d,e,f = a,c,b\n",
        "elif b < a and b < c:\n",
        "    if a < c:\n",
        "        d,e,f = b,a,c\n",
        "    else:\n",
        "        d,e,f = b,c,a\n",
        "else:\n",
        "    if a < b:\n",
        "        d,e,f = c,a,b\n",
        "    else:\n",
        "        d,e,f = c,b,a\n",
        "        \n",
        "print(d,e,f)"
      ],
      "id": "Mavo3AM8nHA1"
    },
    {
      "cell_type": "markdown",
      "metadata": {
        "id": "_XQvxVtSnHA2"
      },
      "source": [
        "დაწერეთ ფუნქცია `grader` რომელსაც გადაეცემა `p` ქულა `0`-დან `100`-ის ჩათვლით და პასუხად დააბრუნებს `A`, `B`, `C`, `D`, `E`, `F` ნიშანს.\n",
        "\n",
        "- `A`: 90<p<=100,\n",
        "- `B`: 80<p<=90,\n",
        "- `C`: 70<p<=80,\n",
        "- `D`: 60<p<=70,\n",
        "- `E`: 50<p<=60,\n",
        "- `F`: p<=50"
      ],
      "id": "_XQvxVtSnHA2"
    },
    {
      "cell_type": "code",
      "execution_count": null,
      "metadata": {
        "id": "A4dOcSd-nHA3"
      },
      "outputs": [],
      "source": [
        "def grader(p):\n",
        "    \n",
        "    if 90 < p:\n",
        "        return 'A'\n",
        "    if 80 < p:\n",
        "        return 'B'\n",
        "    if 70 < p:\n",
        "        return 'C'\n",
        "    if 60 < p:\n",
        "        return 'D'\n",
        "    if 50 < p:\n",
        "        return 'E'\n",
        "    return 'F'"
      ],
      "id": "A4dOcSd-nHA3"
    },
    {
      "cell_type": "markdown",
      "metadata": {
        "id": "AK3D2uMZnHA4"
      },
      "source": [
        "დაწერე კოდი, რომელიც დაადგენს მოცემული წელი ნაკიანია თუ არა შემდეგი წესების მიხედვით:\n",
        "- რომელიც უნაშთოდ იყოფა 400-ზე, ნაკიანია.\n",
        "- დარჩენილი წლებიდან რომელიც იყოფა 100-ზე არაა ნაკიანი წელი.\n",
        "- დარჩენილი წლებიდან რომელიც იყოფა 4-ზე, ნაკიანია.\n",
        "- ყველა სხვა დანარჩენი არაა ნაკიანი."
      ],
      "id": "AK3D2uMZnHA4"
    },
    {
      "cell_type": "code",
      "execution_count": null,
      "metadata": {
        "id": "1DEDSyt2nHA5"
      },
      "outputs": [],
      "source": [
        "if n % 4 == 0 and (n % 100 != 0 or n % 400 == 0):\n",
        "    print('is leap')\n",
        "else:\n",
        "    print('is not leap')"
      ],
      "id": "1DEDSyt2nHA5"
    },
    {
      "cell_type": "markdown",
      "metadata": {
        "id": "XzleIorxnHA6"
      },
      "source": [
        "დაწერეთ კოდი რომელიც დადებითი `n` რიცხვისთვის `1`-დან `n`-მდე რიცხვებს დაბეჭდავს შემდეგნაირად:\n",
        "\n",
        "- თუ რიცხვი 3-ის ჯერადია, რიცხვის ნაცვლად დაბეჭდოს `mumbo`\n",
        "- თუ რიცხვი 5-ის ჯერადია, რიცხვის ნაცვლად დაბეჭდოს `jumbo`\n",
        "- თუ რიცხვი 3-ის ჯერადიცაა და 5-საც, დაბეჭდოს `mumbojumbo`\n",
        "- სხვა შემთხვევაში დაბეჭდოს რიცხვი."
      ],
      "id": "XzleIorxnHA6"
    },
    {
      "cell_type": "code",
      "execution_count": null,
      "metadata": {
        "id": "US0khGUMnHA6"
      },
      "outputs": [],
      "source": [
        "i = 1\n",
        "\n",
        "while i < n:\n",
        "    \n",
        "    if i % 3 == 0:\n",
        "        if i % 5 == 0:\n",
        "            print('mumbojumbo')\n",
        "        else:\n",
        "            print('mumbo')\n",
        "    elif i % 5 == 0:\n",
        "        print('jumbo')\n",
        "    else:\n",
        "        print(i)\n",
        "\n",
        "    i += 1"
      ],
      "id": "US0khGUMnHA6"
    },
    {
      "cell_type": "markdown",
      "metadata": {
        "id": "aTYZa8PanHA7"
      },
      "source": [
        "დაწერეთ კოდი, რომელიც მიყოლებით დაბეჭდავ მოცემული სამნიშნა რიცხვის ციფრებს შემდეგი მიმდევრობით: ერთეულები, ათეულები, ასეულები."
      ],
      "id": "aTYZa8PanHA7"
    },
    {
      "cell_type": "code",
      "execution_count": null,
      "metadata": {
        "id": "0VshlF-RnHA7"
      },
      "outputs": [],
      "source": [
        "third = n % 10\n",
        "s = (n - third) / 10 #first two digits\n",
        "second = s % 10\n",
        "first = s // 10\n",
        "\n",
        "print(third, int(second), int(first))"
      ],
      "id": "0VshlF-RnHA7"
    }
  ],
  "metadata": {
    "kernelspec": {
      "display_name": "Python 3",
      "language": "python",
      "name": "python3"
    },
    "language_info": {
      "codemirror_mode": {
        "name": "ipython",
        "version": 3
      },
      "file_extension": ".py",
      "mimetype": "text/x-python",
      "name": "python",
      "nbconvert_exporter": "python",
      "pygments_lexer": "ipython3",
      "version": "3.7.6"
    },
    "toc": {
      "base_numbering": 1,
      "nav_menu": {},
      "number_sections": true,
      "sideBar": true,
      "skip_h1_title": false,
      "title_cell": "Table of Contents",
      "title_sidebar": "Contents",
      "toc_cell": false,
      "toc_position": {},
      "toc_section_display": true,
      "toc_window_display": false
    },
    "colab": {
      "name": "copy python_hw_01_Ana_Khutsishvili.ipynb",
      "provenance": []
    }
  },
  "nbformat": 4,
  "nbformat_minor": 5
}